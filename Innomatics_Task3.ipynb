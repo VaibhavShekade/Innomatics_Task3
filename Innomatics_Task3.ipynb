{
  "nbformat": 4,
  "nbformat_minor": 0,
  "metadata": {
    "colab": {
      "provenance": []
    },
    "kernelspec": {
      "name": "python3",
      "display_name": "Python 3"
    },
    "language_info": {
      "name": "python"
    }
  },
  "cells": [
    {
      "cell_type": "markdown",
      "source": [
        "Q1"
      ],
      "metadata": {
        "id": "2s0gd3Ym-iqd"
      }
    },
    {
      "cell_type": "code",
      "execution_count": null,
      "metadata": {
        "id": "zJNGFpkV-bxh"
      },
      "outputs": [],
      "source": [
        "import cmath\n",
        "input_str = input()\n",
        "try:\n",
        "    z = complex(input_str)\n",
        "except ValueError:\n",
        "    print(\"Invalid input format\")\n",
        "    exit(1)\n",
        "        \n",
        "print(abs(z))\n",
        "arg_z = cmath.phase(z)\n",
        "print(arg_z)\n"
      ]
    },
    {
      "cell_type": "markdown",
      "source": [
        "Q2"
      ],
      "metadata": {
        "id": "lKUFCuCJ-mk9"
      }
    },
    {
      "cell_type": "code",
      "source": [
        "import math\n",
        "ab = int(input())\n",
        "bc = int(input())\n",
        "angle = math.degrees(math.atan(ab/bc))\n",
        "angle = str(round(angle))\n",
        "print(angle + chr(176))\n"
      ],
      "metadata": {
        "id": "r_f_sq14-nrg"
      },
      "execution_count": null,
      "outputs": []
    },
    {
      "cell_type": "markdown",
      "source": [
        "Q3"
      ],
      "metadata": {
        "id": "SeCi3xmd-rZ4"
      }
    },
    {
      "cell_type": "code",
      "source": [
        "for i in range(1, int(input())+1):\n",
        "    print((10**i//9)**2)\n"
      ],
      "metadata": {
        "id": "wn0ko2Ug-sNo"
      },
      "execution_count": null,
      "outputs": []
    },
    {
      "cell_type": "markdown",
      "source": [
        "Q4"
      ],
      "metadata": {
        "id": "00qd70nl-v7T"
      }
    },
    {
      "cell_type": "code",
      "source": [
        "a = int(input())\n",
        "b = int(input())\n",
        "\n",
        "print(a // b)\n",
        "print(a % b)\n",
        "print (divmod(a, b))\n"
      ],
      "metadata": {
        "id": "bqVPtIgg-wpP"
      },
      "execution_count": null,
      "outputs": []
    },
    {
      "cell_type": "markdown",
      "source": [
        "Q5"
      ],
      "metadata": {
        "id": "Doa2McsK-0hH"
      }
    },
    {
      "cell_type": "code",
      "source": [
        "print(f\"{(k:=int(input())**int(input()))}\\n{k%int(input())}\")\n"
      ],
      "metadata": {
        "id": "ax3aUngL-1Vb"
      },
      "execution_count": null,
      "outputs": []
    },
    {
      "cell_type": "markdown",
      "source": [
        "Q6"
      ],
      "metadata": {
        "id": "d8NFMCW--56D"
      }
    },
    {
      "cell_type": "code",
      "source": [
        "a, b, c, d = (int (input()) for _ in range(4))\n",
        "print(pow(a, b) + pow(c, d))\n"
      ],
      "metadata": {
        "id": "BELM0C6f-6sj"
      },
      "execution_count": null,
      "outputs": []
    },
    {
      "cell_type": "markdown",
      "source": [
        "Q7"
      ],
      "metadata": {
        "id": "75hVMWxN--LG"
      }
    },
    {
      "cell_type": "code",
      "source": [
        "for i in range(1,int(input())): #More than 2 lines will result in 0 score. Do not leave a blank line also\n",
        "    print(i*(10**i-1)//(9))\n"
      ],
      "metadata": {
        "id": "6FizUwSM_ARK"
      },
      "execution_count": null,
      "outputs": []
    }
  ]
}